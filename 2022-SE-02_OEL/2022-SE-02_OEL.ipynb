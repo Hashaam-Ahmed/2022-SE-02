{
 "cells": [
  {
   "cell_type": "code",
   "execution_count": 29,
   "id": "e1ba873c-cdd7-4788-995f-e5627939b6d9",
   "metadata": {},
   "outputs": [],
   "source": [
    "import pandas as pd\n",
    "import numpy as np\n",
    "import matplotlib.pyplot as plt\n",
    "import seaborn as sns\n",
    "from sklearn.model_selection import train_test_split, GridSearchCV\n",
    "from sklearn.metrics import accuracy_score, confusion_matrix, classification_report\n",
    "from sklearn.preprocessing import StandardScaler\n",
    "from sklearn.linear_model import LogisticRegression\n",
    "from sklearn.neighbors import KNeighborsClassifier\n",
    "from sklearn.naive_bayes import GaussianNB\n",
    "from sklearn.cluster import KMeans\n",
    "from sklearn.neural_network import MLPClassifier\n",
    "from sklearn.impute import SimpleImputer\n",
    "import warnings\n",
    "warnings.filterwarnings('ignore')"
   ]
  },
  {
   "cell_type": "code",
   "execution_count": 31,
   "id": "67fac3d0-fafe-441d-ab58-414d0b608dd6",
   "metadata": {},
   "outputs": [],
   "source": [
    "train_df = pd.read_csv('mnist_train.csv')\n",
    "test_df = pd.read_csv('mnist_test.csv')"
   ]
  },
  {
   "cell_type": "code",
   "execution_count": 33,
   "id": "3a45fd7d-8079-4044-9efc-57b603fedba7",
   "metadata": {},
   "outputs": [
    {
     "name": "stdout",
     "output_type": "stream",
     "text": [
      "(464, 785)\n"
     ]
    }
   ],
   "source": [
    "combined_df = pd.concat([train_df, test_df], axis=0).reset_index(drop=True)\n",
    "print(combined_df.shape)"
   ]
  },
  {
   "cell_type": "code",
   "execution_count": 35,
   "id": "e51240af-d9dd-42b5-a8ee-17bf9c72b760",
   "metadata": {},
   "outputs": [
    {
     "data": {
      "text/html": [
       "<div>\n",
       "<style scoped>\n",
       "    .dataframe tbody tr th:only-of-type {\n",
       "        vertical-align: middle;\n",
       "    }\n",
       "\n",
       "    .dataframe tbody tr th {\n",
       "        vertical-align: top;\n",
       "    }\n",
       "\n",
       "    .dataframe thead th {\n",
       "        text-align: right;\n",
       "    }\n",
       "</style>\n",
       "<table border=\"1\" class=\"dataframe\">\n",
       "  <thead>\n",
       "    <tr style=\"text-align: right;\">\n",
       "      <th></th>\n",
       "      <th>0</th>\n",
       "      <th>1</th>\n",
       "      <th>2</th>\n",
       "      <th>3</th>\n",
       "      <th>4</th>\n",
       "      <th>5</th>\n",
       "      <th>6</th>\n",
       "      <th>7</th>\n",
       "      <th>8</th>\n",
       "      <th>9</th>\n",
       "      <th>...</th>\n",
       "      <th>775</th>\n",
       "      <th>776</th>\n",
       "      <th>777</th>\n",
       "      <th>778</th>\n",
       "      <th>779</th>\n",
       "      <th>780</th>\n",
       "      <th>781</th>\n",
       "      <th>782</th>\n",
       "      <th>783</th>\n",
       "      <th>label</th>\n",
       "    </tr>\n",
       "  </thead>\n",
       "  <tbody>\n",
       "    <tr>\n",
       "      <th>0</th>\n",
       "      <td>0</td>\n",
       "      <td>0</td>\n",
       "      <td>0</td>\n",
       "      <td>0</td>\n",
       "      <td>0</td>\n",
       "      <td>0</td>\n",
       "      <td>0</td>\n",
       "      <td>0</td>\n",
       "      <td>0</td>\n",
       "      <td>0</td>\n",
       "      <td>...</td>\n",
       "      <td>0.0</td>\n",
       "      <td>0.0</td>\n",
       "      <td>0.0</td>\n",
       "      <td>0.0</td>\n",
       "      <td>0.0</td>\n",
       "      <td>0.0</td>\n",
       "      <td>0.0</td>\n",
       "      <td>0.0</td>\n",
       "      <td>0.0</td>\n",
       "      <td>5.0</td>\n",
       "    </tr>\n",
       "    <tr>\n",
       "      <th>1</th>\n",
       "      <td>0</td>\n",
       "      <td>0</td>\n",
       "      <td>0</td>\n",
       "      <td>0</td>\n",
       "      <td>0</td>\n",
       "      <td>0</td>\n",
       "      <td>0</td>\n",
       "      <td>0</td>\n",
       "      <td>0</td>\n",
       "      <td>0</td>\n",
       "      <td>...</td>\n",
       "      <td>0.0</td>\n",
       "      <td>0.0</td>\n",
       "      <td>0.0</td>\n",
       "      <td>0.0</td>\n",
       "      <td>0.0</td>\n",
       "      <td>0.0</td>\n",
       "      <td>0.0</td>\n",
       "      <td>0.0</td>\n",
       "      <td>0.0</td>\n",
       "      <td>0.0</td>\n",
       "    </tr>\n",
       "    <tr>\n",
       "      <th>2</th>\n",
       "      <td>0</td>\n",
       "      <td>0</td>\n",
       "      <td>0</td>\n",
       "      <td>0</td>\n",
       "      <td>0</td>\n",
       "      <td>0</td>\n",
       "      <td>0</td>\n",
       "      <td>0</td>\n",
       "      <td>0</td>\n",
       "      <td>0</td>\n",
       "      <td>...</td>\n",
       "      <td>0.0</td>\n",
       "      <td>0.0</td>\n",
       "      <td>0.0</td>\n",
       "      <td>0.0</td>\n",
       "      <td>0.0</td>\n",
       "      <td>0.0</td>\n",
       "      <td>0.0</td>\n",
       "      <td>0.0</td>\n",
       "      <td>0.0</td>\n",
       "      <td>4.0</td>\n",
       "    </tr>\n",
       "    <tr>\n",
       "      <th>3</th>\n",
       "      <td>0</td>\n",
       "      <td>0</td>\n",
       "      <td>0</td>\n",
       "      <td>0</td>\n",
       "      <td>0</td>\n",
       "      <td>0</td>\n",
       "      <td>0</td>\n",
       "      <td>0</td>\n",
       "      <td>0</td>\n",
       "      <td>0</td>\n",
       "      <td>...</td>\n",
       "      <td>0.0</td>\n",
       "      <td>0.0</td>\n",
       "      <td>0.0</td>\n",
       "      <td>0.0</td>\n",
       "      <td>0.0</td>\n",
       "      <td>0.0</td>\n",
       "      <td>0.0</td>\n",
       "      <td>0.0</td>\n",
       "      <td>0.0</td>\n",
       "      <td>1.0</td>\n",
       "    </tr>\n",
       "    <tr>\n",
       "      <th>4</th>\n",
       "      <td>0</td>\n",
       "      <td>0</td>\n",
       "      <td>0</td>\n",
       "      <td>0</td>\n",
       "      <td>0</td>\n",
       "      <td>0</td>\n",
       "      <td>0</td>\n",
       "      <td>0</td>\n",
       "      <td>0</td>\n",
       "      <td>0</td>\n",
       "      <td>...</td>\n",
       "      <td>0.0</td>\n",
       "      <td>0.0</td>\n",
       "      <td>0.0</td>\n",
       "      <td>0.0</td>\n",
       "      <td>0.0</td>\n",
       "      <td>0.0</td>\n",
       "      <td>0.0</td>\n",
       "      <td>0.0</td>\n",
       "      <td>0.0</td>\n",
       "      <td>9.0</td>\n",
       "    </tr>\n",
       "  </tbody>\n",
       "</table>\n",
       "<p>5 rows × 785 columns</p>\n",
       "</div>"
      ],
      "text/plain": [
       "   0  1  2  3  4  5  6  7  8  9  ...  775  776  777  778  779  780  781  782  \\\n",
       "0  0  0  0  0  0  0  0  0  0  0  ...  0.0  0.0  0.0  0.0  0.0  0.0  0.0  0.0   \n",
       "1  0  0  0  0  0  0  0  0  0  0  ...  0.0  0.0  0.0  0.0  0.0  0.0  0.0  0.0   \n",
       "2  0  0  0  0  0  0  0  0  0  0  ...  0.0  0.0  0.0  0.0  0.0  0.0  0.0  0.0   \n",
       "3  0  0  0  0  0  0  0  0  0  0  ...  0.0  0.0  0.0  0.0  0.0  0.0  0.0  0.0   \n",
       "4  0  0  0  0  0  0  0  0  0  0  ...  0.0  0.0  0.0  0.0  0.0  0.0  0.0  0.0   \n",
       "\n",
       "   783  label  \n",
       "0  0.0    5.0  \n",
       "1  0.0    0.0  \n",
       "2  0.0    4.0  \n",
       "3  0.0    1.0  \n",
       "4  0.0    9.0  \n",
       "\n",
       "[5 rows x 785 columns]"
      ]
     },
     "execution_count": 35,
     "metadata": {},
     "output_type": "execute_result"
    }
   ],
   "source": [
    "combined_df.head()"
   ]
  },
  {
   "cell_type": "code",
   "execution_count": 37,
   "id": "3081dde0-9faa-4665-bcfb-f3df98b0def3",
   "metadata": {},
   "outputs": [],
   "source": [
    "# Separate features and labels\n",
    "X_combined = combined_df.drop('label', axis=1)\n",
    "y_combined = combined_df['label']"
   ]
  },
  {
   "cell_type": "code",
   "execution_count": 39,
   "id": "df71d798-ab67-4635-af5b-d7af03d65c56",
   "metadata": {},
   "outputs": [
    {
     "name": "stdout",
     "output_type": "stream",
     "text": [
      "Feature: 177\n",
      "Label: 2\n"
     ]
    }
   ],
   "source": [
    "# Handling NaNs by checking them\n",
    "print(\"Feature:\",combined_df.drop('label', axis=1).isna().sum().sum())\n",
    "print(\"Label:\",combined_df['label'].isna().sum())"
   ]
  },
  {
   "cell_type": "code",
   "execution_count": 84,
   "id": "a2f72b02-dbac-4f7a-a439-e6acb2a2b7bc",
   "metadata": {},
   "outputs": [],
   "source": [
    "# Fill missing values with the median\n",
    "imputer_X = SimpleImputer(strategy='median')\n",
    "X_combined = imputer_X.fit_transform(X_combined)\n",
    "imputer_y = SimpleImputer(strategy='median')\n",
    "y_combined = imputer_y.fit_transform(y_combined.reshape(-1, 1)).ravel()"
   ]
  },
  {
   "cell_type": "code",
   "execution_count": 86,
   "id": "9e9250f9-2890-4fb1-945f-7ae1281d1926",
   "metadata": {},
   "outputs": [],
   "source": [
    "scaler = StandardScaler()\n",
    "X_train = scaler.fit_transform(X_train)\n",
    "X_test = scaler.transform(X_test)"
   ]
  },
  {
   "cell_type": "code",
   "execution_count": 88,
   "id": "e00c8f6b-47e4-47a8-9387-c477e03bd988",
   "metadata": {},
   "outputs": [
    {
     "name": "stdout",
     "output_type": "stream",
     "text": [
      "Logistic Regression Accuracy: 0.8495\n",
      "              precision    recall  f1-score   support\n",
      "\n",
      "         0.0       1.00      1.00      1.00         8\n",
      "         1.0       0.73      1.00      0.84         8\n",
      "         2.0       0.91      0.77      0.83        13\n",
      "         3.0       0.60      0.75      0.67         8\n",
      "         4.0       0.90      1.00      0.95         9\n",
      "         5.0       0.83      0.56      0.67         9\n",
      "         6.0       1.00      0.92      0.96        13\n",
      "         7.0       0.75      0.82      0.78        11\n",
      "         8.0       1.00      0.80      0.89         5\n",
      "         9.0       0.89      0.89      0.89         9\n",
      "\n",
      "    accuracy                           0.85        93\n",
      "   macro avg       0.86      0.85      0.85        93\n",
      "weighted avg       0.86      0.85      0.85        93\n",
      "\n",
      "KNN Accuracy: 0.7097\n",
      "              precision    recall  f1-score   support\n",
      "\n",
      "         0.0       0.89      1.00      0.94         8\n",
      "         1.0       0.38      1.00      0.55         8\n",
      "         2.0       1.00      0.46      0.63        13\n",
      "         3.0       0.56      0.62      0.59         8\n",
      "         4.0       0.82      1.00      0.90         9\n",
      "         5.0       1.00      0.33      0.50         9\n",
      "         6.0       1.00      0.77      0.87        13\n",
      "         7.0       0.83      0.45      0.59        11\n",
      "         8.0       0.75      0.60      0.67         5\n",
      "         9.0       0.64      1.00      0.78         9\n",
      "\n",
      "    accuracy                           0.71        93\n",
      "   macro avg       0.79      0.72      0.70        93\n",
      "weighted avg       0.81      0.71      0.71        93\n",
      "\n",
      "Naive Bayes Accuracy: 0.6344\n",
      "              precision    recall  f1-score   support\n",
      "\n",
      "         0.0       1.00      0.88      0.93         8\n",
      "         1.0       0.88      0.88      0.88         8\n",
      "         2.0       0.73      0.85      0.79        13\n",
      "         3.0       0.67      0.50      0.57         8\n",
      "         4.0       0.60      0.33      0.43         9\n",
      "         5.0       0.62      0.56      0.59         9\n",
      "         6.0       0.75      0.92      0.83        13\n",
      "         7.0       0.57      0.36      0.44        11\n",
      "         8.0       0.40      0.40      0.40         5\n",
      "         9.0       0.25      0.44      0.32         9\n",
      "\n",
      "    accuracy                           0.63        93\n",
      "   macro avg       0.65      0.61      0.62        93\n",
      "weighted avg       0.66      0.63      0.63        93\n",
      "\n",
      "MLP Classifier Accuracy: 0.8280\n",
      "              precision    recall  f1-score   support\n",
      "\n",
      "         0.0       1.00      1.00      1.00         8\n",
      "         1.0       0.89      1.00      0.94         8\n",
      "         2.0       0.83      0.77      0.80        13\n",
      "         3.0       0.58      0.88      0.70         8\n",
      "         4.0       1.00      1.00      1.00         9\n",
      "         5.0       1.00      0.33      0.50         9\n",
      "         6.0       1.00      1.00      1.00        13\n",
      "         7.0       0.69      0.82      0.75        11\n",
      "         8.0       0.80      0.80      0.80         5\n",
      "         9.0       0.67      0.67      0.67         9\n",
      "\n",
      "    accuracy                           0.83        93\n",
      "   macro avg       0.85      0.83      0.82        93\n",
      "weighted avg       0.85      0.83      0.82        93\n",
      "\n",
      "KMeans Accuracy: 0.0215\n",
      "              precision    recall  f1-score   support\n",
      "\n",
      "         0.0       0.00      0.00      0.00         8\n",
      "         1.0       0.00      0.00      0.00         8\n",
      "         2.0       0.00      0.00      0.00        13\n",
      "         3.0       0.00      0.00      0.00         8\n",
      "         4.0       0.00      0.00      0.00         9\n",
      "         5.0       0.00      0.00      0.00         9\n",
      "         6.0       0.00      0.00      0.00        13\n",
      "         7.0       0.11      0.09      0.10        11\n",
      "         8.0       0.00      0.00      0.00         5\n",
      "         9.0       0.14      0.11      0.12         9\n",
      "\n",
      "    accuracy                           0.02        93\n",
      "   macro avg       0.03      0.02      0.02        93\n",
      "weighted avg       0.03      0.02      0.02        93\n",
      "\n"
     ]
    }
   ],
   "source": [
    "# Define models\n",
    "models = {\n",
    "    'Logistic Regression': LogisticRegression(max_iter=1000),\n",
    "    'KNN': KNeighborsClassifier(n_neighbors=5),\n",
    "    'Naive Bayes': GaussianNB(),\n",
    "    'MLP Classifier': MLPClassifier(hidden_layer_sizes=(64, 64), max_iter=300),\n",
    "    'KMeans': KMeans(n_clusters=10, random_state=42)\n",
    "}\n",
    "\n",
    "for name, model in models.items():\n",
    "    model.fit(X_train, y_train)\n",
    "    y_pred = model.predict(X_test)\n",
    "    accuracy = accuracy_score(y_test, y_pred)\n",
    "    results[name] = accuracy\n",
    "    \n",
    "    print(f\"{name} Accuracy: {accuracy:.4f}\")\n",
    "    print(classification_report(y_test, y_pred))\n",
    "    "
   ]
  },
  {
   "cell_type": "code",
   "execution_count": 92,
   "id": "ad0a9f8b-8498-4c00-acd6-d98ad3a63047",
   "metadata": {},
   "outputs": [
    {
     "data": {
      "image/png": "[encoded data removed]",
      "text/plain": [
       "<Figure size 640x480 with 2 Axes>"
      ]
     },
     "metadata": {},
     "output_type": "display_data"
    }
   ],
   "source": [
    "# Confusion Matrix\n",
    "sns.heatmap(confusion_matrix(y_test, y_pred), annot=True, fmt='d', cmap='Blues')\n",
    "plt.title(f\"{name} - Confusion Matrix\")\n",
    "plt.show()"
   ]
  },
  {
   "cell_type": "code",
   "execution_count": 100,
   "id": "89740924-d060-47a4-8dcd-2945453c7c02",
   "metadata": {},
   "outputs": [
    {
     "data": {
      "image/png": "[encoded data removed]",
      "text/plain": [
       "<Figure size 800x500 with 1 Axes>"
      ]
     },
     "metadata": {},
     "output_type": "display_data"
    }
   ],
   "source": [
    "# Plot model accuracy comparison\n",
    "plt.figure(figsize=(8, 5))\n",
    "sns.barplot(x=list(results.keys()), y=list(results.values()), palette='viridis')\n",
    "plt.title('Model Accuracy Comparison')\n",
    "plt.ylabel('Accuracy')\n",
    "plt.xlabel('Model')\n",
    "plt.ylim(0, 1)  # Accuracy ranges from 0 to 1\n",
    "plt.xticks(rotation=45)\n",
    "plt.show()"
   ]
  },
  {
   "cell_type": "code",
   "execution_count": 102,
   "id": "f3a6040c-9557-46e1-bc7c-b123e8253d22",
   "metadata": {},
   "outputs": [
    {
     "name": "stdout",
     "output_type": "stream",
     "text": [
      "                 Model  Accuracy\n",
      "0  Logistic Regression  0.849462\n",
      "3       MLP Classifier  0.827957\n",
      "1                  KNN  0.709677\n",
      "2          Naive Bayes  0.634409\n",
      "4               KMeans  0.021505\n"
     ]
    }
   ],
   "source": [
    "# Summary of Results\n",
    "results_df = pd.DataFrame(results.items(), columns=['Model', 'Accuracy']).sort_values(by='Accuracy', ascending=False)\n",
    "print(results_df)"
   ]
  },
  {
   "cell_type": "code",
   "execution_count": null,
   "id": "d69c549b-5e5f-4cb1-a5e3-e87fdf340e7a",
   "metadata": {},
   "outputs": [],
   "source": []
  }
 ],
 "metadata": {
  "kernelspec": {
   "display_name": "Python 3 (ipykernel)",
   "language": "python",
   "name": "python3"
  },
  "language_info": {
   "codemirror_mode": {
    "name": "ipython",
    "version": 3
   },
   "file_extension": ".py",
   "mimetype": "text/x-python",
   "name": "python",
   "nbconvert_exporter": "python",
   "pygments_lexer": "ipython3",
   "version": "3.12.7"
  }
 },
 "nbformat": 4,
 "nbformat_minor": 5
}
